{
 "cells": [
  {
   "cell_type": "markdown",
   "metadata": {},
   "source": [
    "- Nurbs曲線\n",
    "    - Non-Uniformed Rational Basis-Spline Curve\n",
    "    - 非一様有理Bスプライン曲線\n",
    "        - 非一様：ノットベクトルで曲線セグメントの区間幅を変化させられる\n",
    "        - 有理：各制御点の基底関数が基底関数全体の総和で割られている\n",
    "        - B-スプライン曲線：制御点についてノットベクトルを用いて定義されるなめらかな曲線\n",
    "            - 制御点の一部を変更しても全体に影響が及ばない\n",
    "            - 生成された曲線は必ずしも制御点を通るわけではない\n",
    "            - 曲率が連続である\n",
    "\n",
    "- 曲線はn+1個の制御点とウェイト、n+p+2個のノットからなるノットベクトルで定義される\n",
    "    - p : 次数\n",
    "    "
   ]
  },
  {
   "cell_type": "markdown",
   "metadata": {},
   "source": [
    "## Bスプライン曲線の基本式\n",
    "$$\n",
    "S(u) = \\sum^{p-1}_{i=0}P_{i}b_{i,n}(u)\n",
    "$$\n",
    "\n",
    "- p：次数\n",
    "- q：階数　$q = p + 1$\n",
    "- n：制御点数　$n = p + 1$\n",
    "- u：ノットベクトル\n",
    "    - ノットベクトル数 $m = p + q + 1$"
   ]
  },
  {
   "cell_type": "code",
   "execution_count": null,
   "metadata": {},
   "outputs": [],
   "source": []
  }
 ],
 "metadata": {
  "language_info": {
   "codemirror_mode": {
    "name": "ipython",
    "version": 3
   },
   "file_extension": ".py",
   "mimetype": "text/x-python",
   "name": "python",
   "nbconvert_exporter": "python",
   "pygments_lexer": "ipython3",
   "version": 3
  },
  "orig_nbformat": 2
 },
 "nbformat": 4,
 "nbformat_minor": 2
}